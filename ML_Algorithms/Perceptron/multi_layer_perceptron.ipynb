{
 "cells": [
  {
   "cell_type": "markdown",
   "id": "a53080ec",
   "metadata": {},
   "source": [
    " ## 🔹MLP\n"
   ]
  },
  {
   "cell_type": "markdown",
   "id": "60503777",
   "metadata": {},
   "source": [
    " #### A type of feedforward neural network.\n",
    "\n",
    " #### Consists of input layer, one or more hidden layers, and an output layer.\n",
    "\n",
    " #### It is a fully connected network (each neuron connects to all neurons in the next layer)."
   ]
  },
  {
   "cell_type": "markdown",
   "id": "61555cac",
   "metadata": {},
   "source": [
    "## Activation Function\n",
    "\n"
   ]
  },
  {
   "cell_type": "markdown",
   "id": "afa34241",
   "metadata": {},
   "source": [
    "- Activation Function that are used in MLP are used to introduce Non-linearity in our network.\n",
    "- Activation Function used are ReLU or Sigmoid or tanh"
   ]
  },
  {
   "cell_type": "code",
   "execution_count": 1,
   "id": "8e83e39a",
   "metadata": {},
   "outputs": [],
   "source": [
    "import numpy as np\n",
    "import matplotlib.pyplot as plt\n"
   ]
  },
  {
   "cell_type": "code",
   "execution_count": 3,
   "id": "1e2681de",
   "metadata": {},
   "outputs": [],
   "source": [
    "def sigmoid_activation(x):\n",
    "    return 1 / (1 + np.exp(-x))\n",
    "\n",
    "\n",
    "def softmax_activation(x):\n",
    "    logits = np.exp(x - np.max(x))\n",
    "    return logits / np.sum(logits)\n",
    "    "
   ]
  },
  {
   "cell_type": "code",
   "execution_count": null,
   "id": "569e8b85",
   "metadata": {},
   "outputs": [],
   "source": [
    "class MLP:\n",
    "    def __init__(self, input_size , hidden_size , output_size , learning_rate = 0.01, num_iters = 1000 ):\n",
    "        self.learning_rate = learning_rate\n",
    "        self.num_iters = num_iters\n",
    "        self.weights_hidden_input = np.random.randn(input_size, hidden_size)\n",
    "        self.weights_hidden_output = np.random.randn(hidden_size, output_size)\n",
    "        self.bias_hidden_input = np.zeros((1, hidden_size))\n",
    "        self.bias_hidden_output = np.zeros((1, output_size))\n",
    "    \n",
    "    #Compute hidden and output layer inputs and outputs: Apply activation functions to compute the activations.\n",
    "    def forward(self, X):\n",
    "        self.hidden_input = np.dot(X , self.weights_hidden_input) + self.bias_hidden_input\n",
    "        self.hidden_output = sigmoid_activation(self.hidden_input)\n",
    "        self.final_input = np.dot(self.hidden_output , self.weights_hidden_output) + self.bias_hidden_output\n",
    "        self.final_output = softmax_activation(self.final_input)\n",
    "        \n",
    "        return self.final_output\n",
    "    \n",
    "    #Compute errors and update weights and biases: Adjust the weights and biases using the gradient descent algorithm.\n",
    "    def backward(self, X, y, output):\n",
    "        output_error = output - y\n",
    "        hidden_error = np.dot(output_error, self.weights_hidden_output.T) * self.hidden_output * (1 - self.hidden_output)\n",
    "        \n",
    "        self.weights_hidden_output -= self.learning_rate * np.dot(self)\n",
    "        \n",
    "        \n",
    "        \n",
    "         \n",
    "        "
   ]
  }
 ],
 "metadata": {
  "kernelspec": {
   "display_name": "Python 3",
   "language": "python",
   "name": "python3"
  },
  "language_info": {
   "codemirror_mode": {
    "name": "ipython",
    "version": 3
   },
   "file_extension": ".py",
   "mimetype": "text/x-python",
   "name": "python",
   "nbconvert_exporter": "python",
   "pygments_lexer": "ipython3",
   "version": "3.12.3"
  }
 },
 "nbformat": 4,
 "nbformat_minor": 5
}
