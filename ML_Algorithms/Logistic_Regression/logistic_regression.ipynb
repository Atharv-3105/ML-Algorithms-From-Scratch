{
 "cells": [
  {
   "cell_type": "code",
   "execution_count": 1,
   "id": "6b547ef4",
   "metadata": {},
   "outputs": [],
   "source": [
    "import numpy as np\n",
    "import matplotlib.pyplot as plt\n",
    "from sklearn.model_selection import train_test_split\n",
    "from sklearn import datasets"
   ]
  },
  {
   "cell_type": "markdown",
   "id": "e17702a5",
   "metadata": {},
   "source": [
    "$ Sigmoid  = 1/{(1 + e^{-z})} $"
   ]
  },
  {
   "cell_type": "code",
   "execution_count": 2,
   "id": "3716a303",
   "metadata": {},
   "outputs": [],
   "source": [
    "def sigmoid(predictions):\n",
    "    return 1/(1 + np.exp(-predictions))\n",
    "    "
   ]
  },
  {
   "cell_type": "markdown",
   "id": "b248e9e5",
   "metadata": {},
   "source": [
    "### Logistic Regression Class "
   ]
  },
  {
   "cell_type": "code",
   "execution_count": null,
   "id": "efa61037",
   "metadata": {},
   "outputs": [],
   "source": [
    "class LogisticRegression:\n",
    "    \n",
    "    def __init__(self, lr=0.001, num_iters=1000):\n",
    "        self.lr = lr\n",
    "        self.num_iters = num_iters\n",
    "        \n",
    "        self.weight = None\n",
    "        self.bias = None\n",
    "        \n",
    "    def fit(self, X,y):\n",
    "        num_samples, num_features = X.shape\n",
    "        self.weight = np.zeros(num_features)\n",
    "        self.bias = 0\n",
    "        \n",
    "        for _ in range(self.num_iters):\n",
    "            linear_predictions = np.dot(X , self.weight) + self.bias\n",
    "            logistic_predictions = sigmoid(linear_predictions)\n",
    "            \n",
    "            #Compute the gradients\n",
    "            dw = (1 / num_samples) * np.dot(X.T , (logistic_predictions - y))\n",
    "            db = (1/ num_samples) * np.sum(logistic_predictions - y)\n",
    "            \n",
    "            #Update the parameters\n",
    "            self.weight = self.weight - self.lr * dw\n",
    "            self.bias = self.bias - self.lr * db\n",
    "            \n",
    "    def predict(self, X):\n",
    "        linear_prediction = np.dot(X , self.weight) + self.bias\n",
    "        logistic_prediction = sigmoid(linear_prediction)\n",
    "        class_prediction = [0 if y<=0.5 else 1 for y in logistic_prediction]\n",
    "        return class_prediction\n",
    "          "
   ]
  },
  {
   "cell_type": "markdown",
   "id": "19195cd1",
   "metadata": {},
   "source": [
    "## Model Inference"
   ]
  },
  {
   "cell_type": "markdown",
   "id": "c22a7112",
   "metadata": {},
   "source": [
    "#### Loading the dataset"
   ]
  },
  {
   "cell_type": "code",
   "execution_count": 4,
   "id": "c9018031",
   "metadata": {},
   "outputs": [],
   "source": [
    "dataset = datasets.load_breast_cancer()\n",
    "X, y = dataset.data , dataset.target\n",
    "X_train,X_test, y_train, y_test = train_test_split(X, y, test_size = 0.2, random_state = 1234)"
   ]
  },
  {
   "cell_type": "markdown",
   "id": "08a5ff09",
   "metadata": {},
   "source": [
    "#### Initializing our Logistic Regression Class"
   ]
  },
  {
   "cell_type": "code",
   "execution_count": 5,
   "id": "b7514066",
   "metadata": {},
   "outputs": [],
   "source": [
    "#Function to calculate the accuracy of our Algorithm\n",
    "def accuracy(y_pred, label):\n",
    "    return np.sum(y_pred == label)/ len(label)"
   ]
  },
  {
   "cell_type": "markdown",
   "id": "82fa4362",
   "metadata": {},
   "source": [
    "#### Fitting our data in the Model"
   ]
  },
  {
   "cell_type": "code",
   "execution_count": 8,
   "id": "819d8d31",
   "metadata": {},
   "outputs": [
    {
     "name": "stderr",
     "output_type": "stream",
     "text": [
      "C:\\Users\\athar\\AppData\\Local\\Temp\\ipykernel_5784\\2834829709.py:2: RuntimeWarning: overflow encountered in exp\n",
      "  return 1/(1 + np.exp(-predictions))\n"
     ]
    },
    {
     "name": "stdout",
     "output_type": "stream",
     "text": [
      "========================= Accuracy:- 89.47368% =========================\n"
     ]
    }
   ],
   "source": [
    "log_reg = LogisticRegression()\n",
    "log_reg.fit(X_train, y_train)\n",
    "predictions = log_reg.predict(X_test) \n",
    "\n",
    "acc = accuracy(predictions, y_test)\n",
    "print(\"=\"*25, f\"Accuracy:- {acc*100:.5f}%\", \"=\"*25)"
   ]
  },
  {
   "cell_type": "markdown",
   "id": "28645a89",
   "metadata": {},
   "source": [
    "- We are getting 89% accuracy, We can try to change the learning rate to see if we get better accuracy or not"
   ]
  },
  {
   "cell_type": "markdown",
   "id": "18345093",
   "metadata": {},
   "source": [
    "#### Hyperparameter Tuning"
   ]
  },
  {
   "cell_type": "code",
   "execution_count": 9,
   "id": "b5461082",
   "metadata": {},
   "outputs": [
    {
     "name": "stderr",
     "output_type": "stream",
     "text": [
      "C:\\Users\\athar\\AppData\\Local\\Temp\\ipykernel_5784\\2834829709.py:2: RuntimeWarning: overflow encountered in exp\n",
      "  return 1/(1 + np.exp(-predictions))\n"
     ]
    },
    {
     "name": "stdout",
     "output_type": "stream",
     "text": [
      "========================= Accuracy= 92.10526% =========================\n"
     ]
    }
   ],
   "source": [
    "log_reg_2 = LogisticRegression(lr=0.01)\n",
    "log_reg_2.fit(X_train, y_train)\n",
    "predictions2 = log_reg_2.predict(X_test)\n",
    "\n",
    "acc2 = accuracy(predictions2, y_test)\n",
    "print(\"=\"*25, f\"Accuracy= {acc2*100:.5f}%\", \"=\"*25)\n",
    "    "
   ]
  },
  {
   "cell_type": "markdown",
   "id": "8d1c4708",
   "metadata": {},
   "source": [
    "- We got 92% accuracy which is good for our model and hence we can conclude that our Implementation is working correctly."
   ]
  }
 ],
 "metadata": {
  "kernelspec": {
   "display_name": "Python 3",
   "language": "python",
   "name": "python3"
  },
  "language_info": {
   "codemirror_mode": {
    "name": "ipython",
    "version": 3
   },
   "file_extension": ".py",
   "mimetype": "text/x-python",
   "name": "python",
   "nbconvert_exporter": "python",
   "pygments_lexer": "ipython3",
   "version": "3.12.3"
  }
 },
 "nbformat": 4,
 "nbformat_minor": 5
}
