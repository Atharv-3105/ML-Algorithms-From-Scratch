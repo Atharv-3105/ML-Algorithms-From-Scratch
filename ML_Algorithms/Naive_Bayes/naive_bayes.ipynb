{
 "cells": [
  {
   "cell_type": "code",
   "execution_count": 1,
   "id": "8bd81513",
   "metadata": {},
   "outputs": [],
   "source": [
    "import numpy as np\n",
    "from sklearn.model_selection import train_test_split\n",
    "from sklearn import datasets"
   ]
  },
  {
   "cell_type": "markdown",
   "id": "86fb4c4c",
   "metadata": {},
   "source": [
    "- NaiveBayes Class"
   ]
  },
  {
   "cell_type": "code",
   "execution_count": 2,
   "id": "d9602d27",
   "metadata": {},
   "outputs": [],
   "source": [
    "class NaiveBayes:\n",
    "    #We don't need an __init__() function as we don't have any parameters in NaiveBayes\n",
    "    \n",
    "    #fit() function takes the training_samples and the training_labels as input.\n",
    "    def fit(self, X, y):\n",
    "        num_samples , num_features = X.shape\n",
    "        \n",
    "        #get the unique classes\n",
    "        self._classes = np.unique(y)\n",
    "        \n",
    "        #get the total number of classes present\n",
    "        num_classes =  len(self._classes)\n",
    "        \n",
    "        #Inititalize the mean,variance & prior probability for each class\n",
    "        self.mean = np.zeros((num_classes, num_features), dtype=np.float64)\n",
    "        self.variance = np.zeros((num_classes, num_features), dtype=np.float64)\n",
    "        self.priors = np.zeros(num_classes , dtype=np.float64)\n",
    "        \n",
    "        for idx, cls in enumerate(self._classes):\n",
    "            #We only want to get the training samples of a particular class in each iteration\n",
    "            X_cls = X[y == cls]\n",
    "            \n",
    "            #Compute the mean,variance,prior for the current class\n",
    "            self.mean[idx, :] = X_cls.mean(axis = 0)\n",
    "            self.variance[idx, :] = X_cls.var(axis = 0)\n",
    "            self.priors[idx] = X_cls.shape[0] / float(num_samples)\n",
    "            \n",
    "    def predict(self, X):\n",
    "        #Using a helper function\n",
    "        y_pred = [self._predict(x) for x in X]\n",
    "        \n",
    "        return np.array(y_pred)\n",
    "    \n",
    "    def _predict(self, x):\n",
    "        #A helper function which will calculate the posterior probability of a single class\n",
    "        posteriors = []\n",
    "        \n",
    "        for idx, cls in enumerate(self._classes):\n",
    "            prior = np.log(self.priors[idx])\n",
    "            \n",
    "            #Compute the posterior probabilities values using Gausian Normal Distributon helper function.\n",
    "            posterior = np.sum(np.log(self.prob_density(idx, x)))\n",
    "            posterior = posterior + prior\n",
    "            posteriors.append(posterior)\n",
    "            \n",
    "        #Return the class with the highest Posterior Probability\n",
    "        return self._classes[np.argmax(posteriors)]\n",
    "    \n",
    "    def prob_density(self, clss_idx, x):\n",
    "        mean = self.mean[clss_idx]\n",
    "        variance =  self.variance[clss_idx]\n",
    "        numerator = np.exp(-((x - mean) ** 2) / (2*variance))\n",
    "        denominator = np.sqrt(2 * np.pi * variance) \n",
    "        \n",
    "        return numerator / denominator "
   ]
  },
  {
   "cell_type": "markdown",
   "id": "856151c0",
   "metadata": {},
   "source": [
    "- Function to compute the accuracy of our Algorithm"
   ]
  },
  {
   "cell_type": "code",
   "execution_count": 3,
   "id": "14711118",
   "metadata": {},
   "outputs": [],
   "source": [
    "def accuracy(y_true, y_pred):\n",
    "    accuracy = np.sum(y_true == y_pred) / len(y_true)\n",
    "    return accuracy"
   ]
  },
  {
   "cell_type": "markdown",
   "id": "7580d813",
   "metadata": {},
   "source": [
    "- Dataset Loading "
   ]
  },
  {
   "cell_type": "code",
   "execution_count": 4,
   "id": "feff5a1e",
   "metadata": {},
   "outputs": [],
   "source": [
    "X, y = datasets.make_classification(\n",
    "    n_samples=1000, n_features = 10, n_classes = 2, random_state=123 \n",
    ")\n",
    "\n",
    "X_train, X_test, y_train, y_test = train_test_split(\n",
    "    X, y, test_size=0.2, random_state=123\n",
    ")"
   ]
  },
  {
   "cell_type": "markdown",
   "id": "c4cabae6",
   "metadata": {},
   "source": [
    "- Training & Testing our Naive_Bayes Algorithm"
   ]
  },
  {
   "cell_type": "code",
   "execution_count": 5,
   "id": "826c16af",
   "metadata": {},
   "outputs": [],
   "source": [
    "nb = NaiveBayes()\n",
    "nb.fit(X_train, y_train)\n",
    "predictions = nb.predict(X_test)"
   ]
  },
  {
   "cell_type": "code",
   "execution_count": 6,
   "id": "80ae8311",
   "metadata": {},
   "outputs": [
    {
     "name": "stdout",
     "output_type": "stream",
     "text": [
      "============================ Accuracy:- 96.50000% ============================\n"
     ]
    }
   ],
   "source": [
    "acc= accuracy(y_test, predictions)\n",
    "print(\"=\"*28, f\"Accuracy:- {acc*100:.5f}%\", \"=\"*28)"
   ]
  },
  {
   "cell_type": "code",
   "execution_count": null,
   "id": "de6a2f90",
   "metadata": {},
   "outputs": [],
   "source": []
  }
 ],
 "metadata": {
  "kernelspec": {
   "display_name": "Python 3",
   "language": "python",
   "name": "python3"
  },
  "language_info": {
   "codemirror_mode": {
    "name": "ipython",
    "version": 3
   },
   "file_extension": ".py",
   "mimetype": "text/x-python",
   "name": "python",
   "nbconvert_exporter": "python",
   "pygments_lexer": "ipython3",
   "version": "3.12.3"
  }
 },
 "nbformat": 4,
 "nbformat_minor": 5
}
